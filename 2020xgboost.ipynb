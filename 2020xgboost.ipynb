{
 "cells": [
  {
   "cell_type": "code",
   "execution_count": 5,
   "id": "ee0f650d-349c-401a-b0a1-260b9a7d4ac7",
   "metadata": {},
   "outputs": [
    {
     "data": {
      "text/html": [
       "<div>\n",
       "<style scoped>\n",
       "    .dataframe tbody tr th:only-of-type {\n",
       "        vertical-align: middle;\n",
       "    }\n",
       "\n",
       "    .dataframe tbody tr th {\n",
       "        vertical-align: top;\n",
       "    }\n",
       "\n",
       "    .dataframe thead th {\n",
       "        text-align: right;\n",
       "    }\n",
       "</style>\n",
       "<table border=\"1\" class=\"dataframe\">\n",
       "  <thead>\n",
       "    <tr style=\"text-align: right;\">\n",
       "      <th></th>\n",
       "      <th>Unnamed: 0</th>\n",
       "      <th>CO</th>\n",
       "      <th>FSP</th>\n",
       "      <th>NO2</th>\n",
       "      <th>O3</th>\n",
       "      <th>RSP</th>\n",
       "      <th>SO2</th>\n",
       "      <th>空气质量指数</th>\n",
       "    </tr>\n",
       "  </thead>\n",
       "  <tbody>\n",
       "    <tr>\n",
       "      <th>0</th>\n",
       "      <td>0</td>\n",
       "      <td>0.4</td>\n",
       "      <td>18</td>\n",
       "      <td>30</td>\n",
       "      <td>47</td>\n",
       "      <td>26</td>\n",
       "      <td>6</td>\n",
       "      <td>2</td>\n",
       "    </tr>\n",
       "    <tr>\n",
       "      <th>1</th>\n",
       "      <td>1</td>\n",
       "      <td>0.4</td>\n",
       "      <td>16</td>\n",
       "      <td>36</td>\n",
       "      <td>39</td>\n",
       "      <td>24</td>\n",
       "      <td>7</td>\n",
       "      <td>2</td>\n",
       "    </tr>\n",
       "    <tr>\n",
       "      <th>2</th>\n",
       "      <td>2</td>\n",
       "      <td>0.4</td>\n",
       "      <td>14</td>\n",
       "      <td>37</td>\n",
       "      <td>36</td>\n",
       "      <td>21</td>\n",
       "      <td>6</td>\n",
       "      <td>2</td>\n",
       "    </tr>\n",
       "    <tr>\n",
       "      <th>3</th>\n",
       "      <td>3</td>\n",
       "      <td>0.3</td>\n",
       "      <td>12</td>\n",
       "      <td>30</td>\n",
       "      <td>43</td>\n",
       "      <td>18</td>\n",
       "      <td>6</td>\n",
       "      <td>2</td>\n",
       "    </tr>\n",
       "    <tr>\n",
       "      <th>4</th>\n",
       "      <td>4</td>\n",
       "      <td>0.3</td>\n",
       "      <td>10</td>\n",
       "      <td>32</td>\n",
       "      <td>43</td>\n",
       "      <td>16</td>\n",
       "      <td>6</td>\n",
       "      <td>2</td>\n",
       "    </tr>\n",
       "  </tbody>\n",
       "</table>\n",
       "</div>"
      ],
      "text/plain": [
       "   Unnamed: 0   CO  FSP  NO2  O3  RSP  SO2  空气质量指数\n",
       "0           0  0.4   18   30  47   26    6       2\n",
       "1           1  0.4   16   36  39   24    7       2\n",
       "2           2  0.4   14   37  36   21    6       2\n",
       "3           3  0.3   12   30  43   18    6       2\n",
       "4           4  0.3   10   32  43   16    6       2"
      ]
     },
     "execution_count": 5,
     "metadata": {},
     "output_type": "execute_result"
    }
   ],
   "source": [
    "import pandas as pd\n",
    "import numpy as np\n",
    "import matplotlib.pyplot as plt\n",
    "from sklearn.model_selection import train_test_split\n",
    "df = pd.read_excel('FF_2020data.xlsx')\n",
    "# 划分特征和目标变量\n",
    "columns_to_drop = ['Unnamed: 0','aqi_CO', 'aqi_FSP', 'aqi_NO2', 'aqi_O3', 'aqi_RSP', 'aqi_SO2', 'aqi']\n",
    "df= df.drop(columns_to_drop, axis=1)\n",
    "X = df.drop(['空气质量指数'], axis=1)\n",
    "y = df['空气质量指数']\n",
    "# 划分训练集和测试集\n",
    "X_train, X_test, y_train, y_test = train_test_split(X, y, test_size=0.2, \n",
    "                                                    random_state=42, stratify=df['空气质量指数'])\n",
    "df.head()"
   ]
  },
  {
   "cell_type": "code",
   "execution_count": 6,
   "id": "fba90284-b367-49c3-b535-e47cf795ac40",
   "metadata": {},
   "outputs": [
    {
     "name": "stdout",
     "output_type": "stream",
     "text": [
      "Unnamed: 0      int64\n",
      "CO            float64\n",
      "FSP             int64\n",
      "NO2             int64\n",
      "O3              int64\n",
      "RSP             int64\n",
      "SO2             int64\n",
      "空气质量指数          int64\n",
      "dtype: object\n"
     ]
    }
   ],
   "source": [
    "print(df.dtypes)"
   ]
  },
  {
   "cell_type": "code",
   "execution_count": 8,
   "id": "336a1599-459b-44ec-937e-bbc029c25138",
   "metadata": {},
   "outputs": [
    {
     "name": "stdout",
     "output_type": "stream",
     "text": [
      "Fitting 3 folds for each of 18 candidates, totalling 54 fits\n"
     ]
    },
    {
     "name": "stderr",
     "output_type": "stream",
     "text": [
      "C:\\Users\\18657\\anaconda3\\Lib\\site-packages\\sklearn\\model_selection\\_search.py:1051: UserWarning: One or more of the test scores are non-finite: [nan nan nan nan nan nan nan nan nan nan nan nan nan nan nan nan nan nan]\n",
      "  warnings.warn(\n"
     ]
    },
    {
     "name": "stdout",
     "output_type": "stream",
     "text": [
      "Best parameters found:  {'learning_rate': 0.02, 'max_depth': 5, 'n_estimators': 300}\n",
      "Best Log Loss score:  -0.8977254131893307\n",
      "Custom Precision Score: 0.9387755102040817\n"
     ]
    }
   ],
   "source": [
    "import xgboost as xgb\n",
    "from sklearn.model_selection import GridSearchCV\n",
    "from sklearn.model_selection import StratifiedKFold\n",
    "from sklearn.metrics import precision_score\n",
    "\n",
    "# XGBoost 模型参数\n",
    "params_xgb = {\n",
    "    'booster': 'gbtree',\n",
    "    'verbosity': 1,\n",
    "    'seed': 42,\n",
    "    'nthread': -1,\n",
    "    'colsample_bytree': 0.6,\n",
    "    'subsample': 0.7,\n",
    "    'eval_metric': 'logloss'\n",
    "}\n",
    "\n",
    "# 初始化 XGBoost 分类模型\n",
    "model_xgb = xgb.XGBClassifier(**params_xgb)\n",
    "\n",
    "# 定义参数网格，调整范围\n",
    "param_grid = {\n",
    "    'n_estimators': [100, 200, 300],\n",
    "    'max_depth': [3, 4, 5],\n",
    "    'learning_rate': [0.01, 0.02]\n",
    "}\n",
    "\n",
    "# 创建分层交叉验证对象，减少折数\n",
    "skf = StratifiedKFold(n_splits=3)\n",
    "\n",
    "# 使用 GridSearchCV 进行网格搜索和分层交叉验证\n",
    "grid_search = GridSearchCV(\n",
    "    estimator=model_xgb,\n",
    "    param_grid=param_grid,\n",
    "    scoring=['neg_log_loss', 'accuracy', 'recall', 'f1'],\n",
    "    cv=skf,\n",
    "    n_jobs=-1,\n",
    "    verbose=1,\n",
    "    refit='accuracy'  # 指定准确率作为重新拟合的指标\n",
    ")\n",
    "\n",
    "# 假设你已经有了 X_train 和 y_train\n",
    "# 训练模型\n",
    "grid_search.fit(X_train, y_train)\n",
    "\n",
    "# 输出最优参数\n",
    "print(\"Best parameters found: \", grid_search.best_params_)\n",
    "print(\"Best Log Loss score: \", -grid_search.best_score_)\n",
    "\n",
    "# 使用最优参数训练模型\n",
    "best_model = grid_search.best_estimator_\n",
    "\n",
    "# 预测\n",
    "y_pred = best_model.predict(X_test)\n",
    "\n",
    "# 手动处理可能出现的分母为 0 的情况\n",
    "def custom_precision_score(y_true, y_pred):\n",
    "    true_positives = ((y_pred == 1) & (y_true == 1)).sum()\n",
    "    predicted_positives = (y_pred == 1).sum()\n",
    "    return true_positives / predicted_positives if predicted_positives > 0 else 0\n",
    "\n",
    "precision = custom_precision_score(y_test, y_pred)\n",
    "print(\"Custom Precision Score:\", precision)"
   ]
  },
  {
   "cell_type": "code",
   "execution_count": 9,
   "id": "914791a6-e75d-46cb-b416-4a8bf5ae022a",
   "metadata": {},
   "outputs": [
    {
     "name": "stdout",
     "output_type": "stream",
     "text": [
      "              precision    recall  f1-score   support\n",
      "\n",
      "           0       0.00      0.00      0.00         1\n",
      "           1       0.94      0.68      0.79        68\n",
      "           2       0.90      0.93      0.91       442\n",
      "           3       0.89      0.92      0.90       495\n",
      "           4       0.90      0.92      0.91       412\n",
      "           5       0.94      0.77      0.85       110\n",
      "\n",
      "    accuracy                           0.90      1528\n",
      "   macro avg       0.76      0.70      0.73      1528\n",
      "weighted avg       0.90      0.90      0.90      1528\n",
      "\n"
     ]
    },
    {
     "name": "stderr",
     "output_type": "stream",
     "text": [
      "C:\\Users\\18657\\anaconda3\\Lib\\site-packages\\sklearn\\metrics\\_classification.py:1509: UndefinedMetricWarning: Precision is ill-defined and being set to 0.0 in labels with no predicted samples. Use `zero_division` parameter to control this behavior.\n",
      "  _warn_prf(average, modifier, f\"{metric.capitalize()} is\", len(result))\n",
      "C:\\Users\\18657\\anaconda3\\Lib\\site-packages\\sklearn\\metrics\\_classification.py:1509: UndefinedMetricWarning: Precision is ill-defined and being set to 0.0 in labels with no predicted samples. Use `zero_division` parameter to control this behavior.\n",
      "  _warn_prf(average, modifier, f\"{metric.capitalize()} is\", len(result))\n",
      "C:\\Users\\18657\\anaconda3\\Lib\\site-packages\\sklearn\\metrics\\_classification.py:1509: UndefinedMetricWarning: Precision is ill-defined and being set to 0.0 in labels with no predicted samples. Use `zero_division` parameter to control this behavior.\n",
      "  _warn_prf(average, modifier, f\"{metric.capitalize()} is\", len(result))\n"
     ]
    }
   ],
   "source": [
    "from sklearn.metrics import classification_report\n",
    "# 预测测试集\n",
    "y_pred = best_model.predict(X_test)\n",
    "# 输出模型报告， 查看评价指标\n",
    "print(classification_report(y_test, y_pred))"
   ]
  },
  {
   "cell_type": "code",
   "execution_count": 10,
   "id": "6e5ed92c-55d4-4366-8c62-2684b76d4524",
   "metadata": {},
   "outputs": [
    {
     "name": "stdout",
     "output_type": "stream",
     "text": [
      "              precision    recall  f1-score   support\n",
      "\n",
      "           0       1.00      0.40      0.57         5\n",
      "           1       0.98      0.87      0.92       272\n",
      "           2       0.95      0.97      0.96      1770\n",
      "           3       0.94      0.96      0.95      1978\n",
      "           4       0.97      0.96      0.97      1646\n",
      "           5       1.00      0.96      0.98       440\n",
      "\n",
      "    accuracy                           0.96      6111\n",
      "   macro avg       0.97      0.85      0.89      6111\n",
      "weighted avg       0.96      0.96      0.96      6111\n",
      "\n"
     ]
    }
   ],
   "source": [
    "from sklearn.metrics import classification_report\n",
    "# 预测训练集\n",
    "y_train_pred = best_model.predict(X_train)\n",
    "# 输出模型报告， 查看评价指标\n",
    "print(classification_report(y_train, y_train_pred))"
   ]
  },
  {
   "cell_type": "code",
   "execution_count": 11,
   "id": "c3de7e93-480b-4f64-9767-24ec6727f3f8",
   "metadata": {},
   "outputs": [
    {
     "name": "stdout",
     "output_type": "stream",
     "text": [
      "训练集准确率： 0.9574537718867616\n",
      "测试集准确率： 0.899869109947644\n"
     ]
    }
   ],
   "source": [
    "# 评估模型在训练集上的性能\n",
    "print(\"训练集准确率：\", best_model.score(X_train, y_train))\n",
    "print(\"测试集准确率：\", best_model.score(X_test, y_test))"
   ]
  },
  {
   "cell_type": "code",
   "execution_count": 12,
   "id": "7435132d-8ea2-4c04-a534-500326b7365f",
   "metadata": {},
   "outputs": [
    {
     "data": {
      "text/plain": [
       "['XGBoost2020.pkl']"
      ]
     },
     "execution_count": 12,
     "metadata": {},
     "output_type": "execute_result"
    }
   ],
   "source": [
    "import joblib\n",
    "# 保存模型\n",
    "joblib.dump(best_model , 'XGBoost2020.pkl')"
   ]
  },
  {
   "cell_type": "code",
   "execution_count": null,
   "id": "aca68bed-a6b3-401c-8dd5-a07701377127",
   "metadata": {},
   "outputs": [],
   "source": []
  }
 ],
 "metadata": {
  "kernelspec": {
   "display_name": "Python 3 (ipykernel)",
   "language": "python",
   "name": "python3"
  },
  "language_info": {
   "codemirror_mode": {
    "name": "ipython",
    "version": 3
   },
   "file_extension": ".py",
   "mimetype": "text/x-python",
   "name": "python",
   "nbconvert_exporter": "python",
   "pygments_lexer": "ipython3",
   "version": "3.12.4"
  }
 },
 "nbformat": 4,
 "nbformat_minor": 5
}
